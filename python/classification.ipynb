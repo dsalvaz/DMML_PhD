{
 "cells": [
  {
   "cell_type": "markdown",
   "metadata": {},
   "source": [
    "<img align=\"right\" width=\"250\" src=\"http://www.sobigdata.eu/sites/default/files/logo-SoBigData-DEFINITIVO.png\">\n",
    "**Author:** [Riccardo Guidotti](http://kdd.isti.cnr.it/people/riccardo-guidotti)  \n",
    "**Python version:**  3.x"
   ]
  },
  {
   "cell_type": "markdown",
   "metadata": {},
   "source": [
    "<img align=\"right\" width=\"250\" src=\"https://nullpointerexception1.files.wordpress.com/2017/11/decision-tree-e1513448957591.jpg?w=1400&h=9999\">\n",
    "\n",
    "# Classification with Python\n",
    "\n",
    "This notebook contains an overview of basic python functionalities for classification using the [sklearn](http://scikit-learn.org/stable/) library.  \n",
    "Note: this notebook is purposely not 100% comprehensive, it only discusses the basic things you need to get started."
   ]
  },
  {
   "cell_type": "markdown",
   "metadata": {},
   "source": [
    "Import of the basic packages to use"
   ]
  },
  {
   "cell_type": "code",
   "execution_count": 52,
   "metadata": {},
   "outputs": [],
   "source": [
    "%matplotlib inline\n",
    "\n",
    "import numpy as np\n",
    "import pandas as pd\n",
    "import matplotlib.pyplot as plt"
   ]
  },
  {
   "cell_type": "markdown",
   "metadata": {},
   "source": [
    "<img align=\"right\" width=\"150\" src=\"https://archive.ics.uci.edu/ml/assets/MLimages/Large53.jpg\">\n",
    "\n",
    "## Iris Dataset  \n",
    "[Link](https://archive.ics.uci.edu/ml/datasets/iris) to the dataset on the UCI Machine Learning Repository.  \n",
    "As first step we load the whole Titanic Dataset and make confidence with its features.  "
   ]
  },
  {
   "cell_type": "code",
   "execution_count": 53,
   "metadata": {},
   "outputs": [
    {
     "data": {
      "text/html": [
       "<div>\n",
       "<style scoped>\n",
       "    .dataframe tbody tr th:only-of-type {\n",
       "        vertical-align: middle;\n",
       "    }\n",
       "\n",
       "    .dataframe tbody tr th {\n",
       "        vertical-align: top;\n",
       "    }\n",
       "\n",
       "    .dataframe thead th {\n",
       "        text-align: right;\n",
       "    }\n",
       "</style>\n",
       "<table border=\"1\" class=\"dataframe\">\n",
       "  <thead>\n",
       "    <tr style=\"text-align: right;\">\n",
       "      <th></th>\n",
       "      <th>sepal length</th>\n",
       "      <th>sepal width</th>\n",
       "      <th>petal length</th>\n",
       "      <th>petal width</th>\n",
       "      <th>class</th>\n",
       "    </tr>\n",
       "  </thead>\n",
       "  <tbody>\n",
       "    <tr>\n",
       "      <th>0</th>\n",
       "      <td>5.1</td>\n",
       "      <td>3.5</td>\n",
       "      <td>1.4</td>\n",
       "      <td>0.2</td>\n",
       "      <td>Iris-setosa</td>\n",
       "    </tr>\n",
       "    <tr>\n",
       "      <th>1</th>\n",
       "      <td>4.9</td>\n",
       "      <td>3.0</td>\n",
       "      <td>1.4</td>\n",
       "      <td>0.2</td>\n",
       "      <td>Iris-setosa</td>\n",
       "    </tr>\n",
       "    <tr>\n",
       "      <th>2</th>\n",
       "      <td>4.7</td>\n",
       "      <td>3.2</td>\n",
       "      <td>1.3</td>\n",
       "      <td>0.2</td>\n",
       "      <td>Iris-setosa</td>\n",
       "    </tr>\n",
       "    <tr>\n",
       "      <th>3</th>\n",
       "      <td>4.6</td>\n",
       "      <td>3.1</td>\n",
       "      <td>1.5</td>\n",
       "      <td>0.2</td>\n",
       "      <td>Iris-setosa</td>\n",
       "    </tr>\n",
       "    <tr>\n",
       "      <th>4</th>\n",
       "      <td>5.0</td>\n",
       "      <td>3.6</td>\n",
       "      <td>1.4</td>\n",
       "      <td>0.2</td>\n",
       "      <td>Iris-setosa</td>\n",
       "    </tr>\n",
       "  </tbody>\n",
       "</table>\n",
       "</div>"
      ],
      "text/plain": [
       "   sepal length  sepal width  petal length  petal width        class\n",
       "0           5.1          3.5           1.4          0.2  Iris-setosa\n",
       "1           4.9          3.0           1.4          0.2  Iris-setosa\n",
       "2           4.7          3.2           1.3          0.2  Iris-setosa\n",
       "3           4.6          3.1           1.5          0.2  Iris-setosa\n",
       "4           5.0          3.6           1.4          0.2  Iris-setosa"
      ]
     },
     "execution_count": 53,
     "metadata": {},
     "output_type": "execute_result"
    }
   ],
   "source": [
    "df = pd.read_csv(\"iris.csv\", skipinitialspace=True, sep=',')\n",
    "df.head()"
   ]
  },
  {
   "cell_type": "code",
   "execution_count": 54,
   "metadata": {},
   "outputs": [
    {
     "name": "stdout",
     "output_type": "stream",
     "text": [
      "<class 'pandas.core.frame.DataFrame'>\n",
      "RangeIndex: 150 entries, 0 to 149\n",
      "Data columns (total 5 columns):\n",
      "sepal length    150 non-null float64\n",
      "sepal width     150 non-null float64\n",
      "petal length    150 non-null float64\n",
      "petal width     150 non-null float64\n",
      "class           150 non-null object\n",
      "dtypes: float64(4), object(1)\n",
      "memory usage: 6.0+ KB\n"
     ]
    }
   ],
   "source": [
    "df.info()"
   ]
  },
  {
   "cell_type": "markdown",
   "metadata": {},
   "source": [
    "The data set contains 3 classes of 50 instances each, where each class refers to a type of iris plant.  \n",
    "The predictive attribute is the class of the iris plant. \n",
    "\n",
    "Fetures:\n",
    "* sepal length (in cm)\n",
    "* sepal width (in cm)\n",
    "* petal length (in cm) \n",
    "* petal width (in cm) \n",
    "* class: Iris-setosa, Iris-versicolour, Iris-virginica\n",
    "\n",
    "Since classification is a ***supervised*** task we are interested in knowing the distribution of thetarget class."
   ]
  },
  {
   "cell_type": "code",
   "execution_count": 55,
   "metadata": {},
   "outputs": [
    {
     "data": {
      "text/plain": [
       "Iris-virginica     50\n",
       "Iris-setosa        50\n",
       "Iris-versicolor    50\n",
       "Name: class, dtype: int64"
      ]
     },
     "execution_count": 55,
     "metadata": {},
     "output_type": "execute_result"
    }
   ],
   "source": [
    "df['class'].value_counts()"
   ]
  },
  {
   "cell_type": "markdown",
   "metadata": {},
   "source": [
    "Sometimes is useful to map a set of string into a set of integers."
   ]
  },
  {
   "cell_type": "code",
   "execution_count": 56,
   "metadata": {},
   "outputs": [],
   "source": [
    "from sklearn.preprocessing import LabelEncoder"
   ]
  },
  {
   "cell_type": "code",
   "execution_count": 59,
   "metadata": {},
   "outputs": [
    {
     "name": "stdout",
     "output_type": "stream",
     "text": [
      "[0 0 0 0 0 0 0 0 0 0]\n"
     ]
    }
   ],
   "source": [
    "le = LabelEncoder()\n",
    "num_classes = le.fit_transform(df['class'])\n",
    "print(num_classes[0:10])"
   ]
  },
  {
   "cell_type": "markdown",
   "metadata": {},
   "source": [
    "## Data Understanding\n",
    "\n",
    "We observe the distributions of the attributes without considering the class."
   ]
  },
  {
   "cell_type": "code",
   "execution_count": 60,
   "metadata": {},
   "outputs": [],
   "source": [
    "from pandas.plotting import scatter_matrix"
   ]
  },
  {
   "cell_type": "code",
   "execution_count": 61,
   "metadata": {},
   "outputs": [
    {
     "data": {
      "image/png": "[encoded data removed]",
      "text/plain": [
       "<Figure size 720x720 with 16 Axes>"
      ]
     },
     "metadata": {
      "needs_background": "light"
     },
     "output_type": "display_data"
    }
   ],
   "source": [
    "scatter_matrix(df, figsize=(10, 10), c=num_classes, s=50)\n",
    "plt.show()"
   ]
  },
  {
   "cell_type": "code",
   "execution_count": 62,
   "metadata": {},
   "outputs": [
    {
     "data": {
      "image/png": "[encoded data removed]",
      "text/plain": [
       "<Figure size 432x288 with 1 Axes>"
      ]
     },
     "metadata": {
      "needs_background": "light"
     },
     "output_type": "display_data"
    }
   ],
   "source": [
    "plt.scatter(df['sepal length'], df['petal width'], s=20, c=num_classes)\n",
    "plt.tick_params(axis='both', which='major', labelsize=22)\n",
    "plt.show()"
   ]
  },
  {
   "cell_type": "markdown",
   "metadata": {},
   "source": [
    "## Classification Objective\n",
    "\n",
    "Given a collection of records called ***training set*** where each record contains a set of ***attributes*** and one of the attributes is the ***target class***. The objective of classification is to find a model for the class attribute as a function of the values of other attributes.\n",
    "\n",
    "The ***goal*** is to assign to a class previously unseen records as accurately as possible.\n",
    "A ***test set*** is used to determine the accuracy of the model. \n",
    "\n",
    "Usually, the given data set is divided into training and test sets, with training set used to build\n",
    "the model and test set used to validate it.\n",
    "\n",
    "<img align=\"center\" width=\"650\" src=\"http://images.slideplayer.com/15/4732696/slides/slide_4.jpg\"> "
   ]
  },
  {
   "cell_type": "markdown",
   "metadata": {},
   "source": [
    "## Classification Techniques\n",
    "* ***Decision Tree***\n",
    "* ***Instance-based methods***\n",
    "* Rule-based methods\n",
    "* Neural Networks\n",
    "* Naïve Bayes and Bayesian Belief Networks\n",
    "* Support Vector Machines (SVM)"
   ]
  },
  {
   "cell_type": "markdown",
   "metadata": {},
   "source": [
    "## Evaluating the Performance of a Classifier\n",
    "\n",
    "In order to evaluate the quality of classification there exist several measures: all of them built upon the concept of **Confusion Matrix**.\n",
    "\n",
    "**Confusion Matrix**\n",
    "In the field of machine learning a confusion matrix is a specific table layout that allows visualization of the performance of an algorithm. Each row of the matrix represents the instances in a predicted class while each column represents the instances in an actual class (or vice versa).\n",
    "\n",
    "<img align=\"right\" width=\"300\" src=\"https://rasbt.github.io/mlxtend/user_guide/evaluate/confusion_matrix_files/confusion_matrix_1.png\">\n",
    "\n",
    "Given a Target class:\n",
    "* ***True Positive (TP)*** represent those instances correctly predicted to be True\n",
    "* ***False Positive (FP)*** represent those instances incorrectly predicted to be True\n",
    "* ***True Negative (TN)*** represent those instances correctly predicted to be False\n",
    "* ***False Negative (FT)*** represent those instances incorrectly predicted to be False \n",
    "\n",
    "Upon such classes are built several indicators.\n",
    "Among the otehrs, two scores characterize the outcome of a predictive model: ***precision*** and ***recall***\n",
    "\n",
    "* **Precision**: how many of the instances I predict to be True are really True? $\\mathit{precision} = \\frac{TP}{TP+FP}$\n",
    "* **Recall**: how many True instances I was able to correctly predict? $\\mathit{recall} = \\frac{TP}{TP+FN}$\n",
    "\n",
    "To summarize the overall performance of a model we can also use the ***accuracy*** and the ***f1-score***: \n",
    "\n",
    "* The **accuracy** $= \\frac{TP+TN}{TP+TN+FP+FN}$ captures the number of instances correctly classified above all\n",
    "* $1-\\mathit{accuracy}$ gives the errore rate, i.e., the error committed by the classifier.\n",
    "* The **f1-score** $= \\frac{2TP}{2TP+FP+FN}$ describes the armonic mean of precision and recall.\n",
    "\n",
    "All these indicators are provided by [sklearn](http://scikit-learn.org/stable/modules/classes.html#module-sklearn.metrics)."
   ]
  },
  {
   "cell_type": "code",
   "execution_count": 63,
   "metadata": {},
   "outputs": [],
   "source": [
    "from sklearn.metrics import confusion_matrix\n",
    "from sklearn.metrics import accuracy_score, f1_score, classification_report\n",
    "from sklearn.metrics import roc_curve, auc, roc_auc_score"
   ]
  },
  {
   "cell_type": "markdown",
   "metadata": {},
   "source": [
    "# Decision Tree"
   ]
  },
  {
   "cell_type": "markdown",
   "metadata": {
    "collapsed": true
   },
   "source": [
    "## Example of Decision Tree and Application\n",
    "<img align=\"left\" width=\"490\" src=\"http://images.slideplayer.com/15/4732696/slides/slide_10.jpg\">\n",
    "<img align=\"right\" width=\"490\" src=\"http://images.slideplayer.com/15/4732696/slides/slide_13.jpg\">"
   ]
  },
  {
   "cell_type": "markdown",
   "metadata": {},
   "source": [
    "## The Algorithm in a Nutshell\n",
    "\n",
    "**Objective:** Build the most accurate decision tree.\n",
    "\n",
    "Given a set $D$ of training records.  \n",
    "* If $D_x$ contains records that belong the same class $y$, then this is a leaf node labeled as $y$;\n",
    "* If $D_x$ contains records that belong to more than one class, use the **best attribute** to split the data into smaller subsets $D_1, \\dots D_k$.\n",
    "* Recursively apply the procedure to each subset.\n",
    "\n",
    "How to determine the best split: nodes with ***homogeneous*** class distribution are preferred.  \n",
    "Thus, a measure of node ***impurity*** is required. Example of impurity nodes:\n",
    "* Gini Index\n",
    "* Entropy\n",
    "* Misclassification error\n",
    "\n",
    "How to determine when to stop splitting: there are various ***stopping criteria***:\n",
    "* Stop expanding a node when all the records belong to the same class\n",
    "* Stop expanding a node when all the records have similar attribute values\n",
    "* Early termination (to be discussed later) \n",
    "\n",
    "> Tan, P. N. (2006). Introduction to data mining. Pearson Education India.\n",
    "\n",
    "Running [example](http://matlaspisa.isti.cnr.it:5055/Decision%20Tree)\n",
    "Wikipedia [link](https://en.wikipedia.org/wiki/Decision_tree)"
   ]
  },
  {
   "cell_type": "markdown",
   "metadata": {},
   "source": [
    "## Classification Problems\n",
    "\n",
    "* Missing values: sophisticatd techniques are required to handle missing values\n",
    "* The sklearn library does not allow missing values.\n",
    "* Overfitting: the model is too accurate on the training data but its performance are poor on the test data.\n",
    "* For a Decision Trees it means that the tree is more complex and deep than necessary."
   ]
  },
  {
   "cell_type": "markdown",
   "metadata": {},
   "source": [
    "## Decision Tree in Python  ([sklearn](http://scikit-learn.org/stable/modules/tree.html))"
   ]
  },
  {
   "cell_type": "code",
   "execution_count": 64,
   "metadata": {},
   "outputs": [],
   "source": [
    "from sklearn.tree import DecisionTreeClassifier\n",
    "from sklearn.model_selection import train_test_split"
   ]
  },
  {
   "cell_type": "markdown",
   "metadata": {},
   "source": [
    "Split the dataset into train and test"
   ]
  },
  {
   "cell_type": "code",
   "execution_count": 65,
   "metadata": {},
   "outputs": [],
   "source": [
    "attributes = [col for col in df.columns if col != 'class']\n",
    "X = df[attributes].values\n",
    "y = df['class']\n",
    "\n",
    "X_train, X_test, y_train, y_test = train_test_split(X, y, \n",
    "                                                    test_size=0.3, \n",
    "                                                    random_state=100, \n",
    "                                                    stratify=y)"
   ]
  },
  {
   "cell_type": "code",
   "execution_count": 66,
   "metadata": {},
   "outputs": [
    {
     "data": {
      "text/plain": [
       "((105, 4), (45, 4))"
      ]
     },
     "execution_count": 66,
     "metadata": {},
     "output_type": "execute_result"
    }
   ],
   "source": [
    "X_train.shape, X_test.shape"
   ]
  },
  {
   "cell_type": "markdown",
   "metadata": {},
   "source": [
    "Build the decision tree"
   ]
  },
  {
   "cell_type": "markdown",
   "metadata": {},
   "source": [
    "Parameters:\n",
    "* **criterion** (default 'gini'): The function to measure the quality of a split. Available: gini, entropy.\n",
    "* **max_depth** (default None): The maximum depth of the tree. If None, then nodes are expanded until all leaves are pure or until all leaves contain less than min_samples_split samples.\n",
    "* **min_samples_split** (default 2): The minimum number of samples required to split an internal node.\n",
    "* **min_samples_leaf** (default 1): The minimum number of samples required to be at a leaf node."
   ]
  },
  {
   "cell_type": "code",
   "execution_count": 77,
   "metadata": {},
   "outputs": [
    {
     "data": {
      "text/plain": [
       "DecisionTreeClassifier(ccp_alpha=0.0, class_weight=None, criterion='gini',\n",
       "                       max_depth=None, max_features=None, max_leaf_nodes=None,\n",
       "                       min_impurity_decrease=0.0, min_impurity_split=None,\n",
       "                       min_samples_leaf=110, min_samples_split=2,\n",
       "                       min_weight_fraction_leaf=0.0, presort='deprecated',\n",
       "                       random_state=None, splitter='best')"
      ]
     },
     "execution_count": 77,
     "metadata": {},
     "output_type": "execute_result"
    }
   ],
   "source": [
    "clf = DecisionTreeClassifier(criterion='gini', max_depth=None, \n",
    "                             min_samples_split=2, min_samples_leaf=110)\n",
    "clf.fit(X_train, y_train)"
   ]
  },
  {
   "cell_type": "markdown",
   "metadata": {},
   "source": [
    "Output:\n",
    "* **feature\\_importances_**: The feature importances. The higher, the more important the feature.\n",
    "* **tree_**: The underlying Tree object."
   ]
  },
  {
   "cell_type": "markdown",
   "metadata": {},
   "source": [
    "Features Importance"
   ]
  },
  {
   "cell_type": "code",
   "execution_count": 78,
   "metadata": {},
   "outputs": [
    {
     "name": "stdout",
     "output_type": "stream",
     "text": [
      "sepal length 0.0\n",
      "sepal width 0.0\n",
      "petal length 0.0\n",
      "petal width 0.0\n"
     ]
    }
   ],
   "source": [
    "for col, imp in zip(attributes, clf.feature_importances_):\n",
    "    print(col, imp)"
   ]
  },
  {
   "cell_type": "markdown",
   "metadata": {},
   "source": [
    "Visualize the decision tree"
   ]
  },
  {
   "cell_type": "code",
   "execution_count": 79,
   "metadata": {},
   "outputs": [],
   "source": [
    "import pydotplus\n",
    "from sklearn import tree\n",
    "from IPython.display import Image"
   ]
  },
  {
   "cell_type": "code",
   "execution_count": 80,
   "metadata": {},
   "outputs": [],
   "source": [
    "#import os\n",
    "#os.environ['PATH'] += os.pathsep + 'C:/Users/Username/Anaconda3/Library/bin/graphviz'"
   ]
  },
  {
   "cell_type": "code",
   "execution_count": 81,
   "metadata": {},
   "outputs": [
    {
     "data": {
      "image/png": "[encoded data removed]",
      "text/plain": [
       "<IPython.core.display.Image object>"
      ]
     },
     "execution_count": 81,
     "metadata": {},
     "output_type": "execute_result"
    }
   ],
   "source": [
    "dot_data = tree.export_graphviz(clf, out_file=None,  \n",
    "                                feature_names=attributes, \n",
    "                                class_names=clf.classes_,  \n",
    "                                filled=True, rounded=True,  \n",
    "                                special_characters=True)  \n",
    "graph = pydotplus.graph_from_dot_data(dot_data)  \n",
    "Image(graph.create_png())"
   ]
  },
  {
   "cell_type": "markdown",
   "metadata": {},
   "source": [
    "Apply the decision tree on the training set"
   ]
  },
  {
   "cell_type": "code",
   "execution_count": 35,
   "metadata": {},
   "outputs": [],
   "source": [
    "y_pred = clf.predict(X_train)"
   ]
  },
  {
   "cell_type": "markdown",
   "metadata": {},
   "source": [
    "Evaluate the performance"
   ]
  },
  {
   "cell_type": "code",
   "execution_count": 36,
   "metadata": {},
   "outputs": [
    {
     "name": "stdout",
     "output_type": "stream",
     "text": [
      "Accuracy 1.0\n",
      "F1-score [1. 1. 1.]\n"
     ]
    }
   ],
   "source": [
    "print('Accuracy %s' % accuracy_score(y_train, y_pred))\n",
    "print('F1-score %s' % f1_score(y_train, y_pred, average=None))"
   ]
  },
  {
   "cell_type": "code",
   "execution_count": 37,
   "metadata": {},
   "outputs": [
    {
     "name": "stdout",
     "output_type": "stream",
     "text": [
      "                 precision    recall  f1-score   support\n",
      "\n",
      "    Iris-setosa       1.00      1.00      1.00        35\n",
      "Iris-versicolor       1.00      1.00      1.00        35\n",
      " Iris-virginica       1.00      1.00      1.00        35\n",
      "\n",
      "       accuracy                           1.00       105\n",
      "      macro avg       1.00      1.00      1.00       105\n",
      "   weighted avg       1.00      1.00      1.00       105\n",
      "\n"
     ]
    }
   ],
   "source": [
    "print(classification_report(y_train, y_pred))"
   ]
  },
  {
   "cell_type": "code",
   "execution_count": 38,
   "metadata": {},
   "outputs": [
    {
     "data": {
      "text/plain": [
       "array([[35,  0,  0],\n",
       "       [ 0, 35,  0],\n",
       "       [ 0,  0, 35]])"
      ]
     },
     "execution_count": 38,
     "metadata": {},
     "output_type": "execute_result"
    }
   ],
   "source": [
    "confusion_matrix(y_train, y_pred)"
   ]
  },
  {
   "cell_type": "markdown",
   "metadata": {},
   "source": [
    "Apply the decision tree on the test set and evaluate the performance"
   ]
  },
  {
   "cell_type": "code",
   "execution_count": 39,
   "metadata": {},
   "outputs": [],
   "source": [
    "y_pred = clf.predict(X_test)"
   ]
  },
  {
   "cell_type": "code",
   "execution_count": 40,
   "metadata": {},
   "outputs": [
    {
     "name": "stdout",
     "output_type": "stream",
     "text": [
      "Accuracy 0.9333333333333333\n",
      "F1-score [1.         0.90909091 0.88888889]\n",
      "                 precision    recall  f1-score   support\n",
      "\n",
      "    Iris-setosa       1.00      1.00      1.00        15\n",
      "Iris-versicolor       0.83      1.00      0.91        15\n",
      " Iris-virginica       1.00      0.80      0.89        15\n",
      "\n",
      "       accuracy                           0.93        45\n",
      "      macro avg       0.94      0.93      0.93        45\n",
      "   weighted avg       0.94      0.93      0.93        45\n",
      "\n"
     ]
    },
    {
     "data": {
      "text/plain": [
       "array([[15,  0,  0],\n",
       "       [ 0, 15,  0],\n",
       "       [ 0,  3, 12]])"
      ]
     },
     "execution_count": 40,
     "metadata": {},
     "output_type": "execute_result"
    }
   ],
   "source": [
    "print('Accuracy %s' % accuracy_score(y_test, y_pred))\n",
    "print('F1-score %s' % f1_score(y_test, y_pred, average=None))\n",
    "print(classification_report(y_test, y_pred))\n",
    "confusion_matrix(y_test, y_pred)"
   ]
  },
  {
   "cell_type": "code",
   "execution_count": 41,
   "metadata": {},
   "outputs": [],
   "source": [
    "from sklearn.preprocessing import LabelBinarizer"
   ]
  },
  {
   "cell_type": "code",
   "execution_count": 42,
   "metadata": {},
   "outputs": [
    {
     "data": {
      "text/plain": [
       "['Iris-setosa', 'Iris-versicolor', 'Iris-virginica']"
      ]
     },
     "execution_count": 42,
     "metadata": {},
     "output_type": "execute_result"
    }
   ],
   "source": [
    "lb = LabelBinarizer()\n",
    "lb.fit(y_test)\n",
    "lb.classes_.tolist()"
   ]
  },
  {
   "cell_type": "code",
   "execution_count": 43,
   "metadata": {},
   "outputs": [
    {
     "data": {
      "text/plain": [
       "array([1.  , 0.95, 0.9 ])"
      ]
     },
     "execution_count": 43,
     "metadata": {},
     "output_type": "execute_result"
    }
   ],
   "source": [
    "fpr = dict()\n",
    "tpr = dict()\n",
    "roc_auc = dict()\n",
    "by_test = lb.transform(y_test)\n",
    "by_pred = lb.transform(y_pred)\n",
    "for i in range(3):\n",
    "    fpr[i], tpr[i], _ = roc_curve(by_test[:, i], by_pred[:, i])\n",
    "    roc_auc[i] = auc(fpr[i], tpr[i])\n",
    "    \n",
    "roc_auc = roc_auc_score(by_test, by_pred, average=None)\n",
    "roc_auc"
   ]
  },
  {
   "cell_type": "code",
   "execution_count": 44,
   "metadata": {},
   "outputs": [
    {
     "data": {
      "image/png": "[encoded data removed]",
      "text/plain": [
       "<Figure size 576x360 with 1 Axes>"
      ]
     },
     "metadata": {
      "needs_background": "light"
     },
     "output_type": "display_data"
    }
   ],
   "source": [
    "plt.figure(figsize=(8, 5))\n",
    "for i in range(3):\n",
    "    plt.plot(fpr[i], tpr[i], \n",
    "             label='%s ROC curve (area = %0.2f)' % (lb.classes_.tolist()[i], roc_auc[i]))\n",
    "    \n",
    "plt.plot([0, 1], [0, 1], 'k--')\n",
    "plt.xlim([0.0, 1.0])\n",
    "plt.ylim([0.0, 1.05])\n",
    "plt.xlabel('False Positive Rate', fontsize=20)\n",
    "plt.ylabel('True Positive Rate', fontsize=20) \n",
    "plt.tick_params(axis='both', which='major', labelsize=22)\n",
    "plt.legend(loc=\"lower right\", fontsize=14, frameon=False)\n",
    "plt.show()"
   ]
  },
  {
   "cell_type": "markdown",
   "metadata": {},
   "source": [
    "### Cross Validation  \n",
    "More options at [link](http://scikit-learn.org/stable/modules/cross_validation.html#)"
   ]
  },
  {
   "cell_type": "code",
   "execution_count": 45,
   "metadata": {},
   "outputs": [],
   "source": [
    "from sklearn.model_selection import cross_val_score"
   ]
  },
  {
   "cell_type": "code",
   "execution_count": 46,
   "metadata": {},
   "outputs": [
    {
     "name": "stdout",
     "output_type": "stream",
     "text": [
      "Accuracy: 0.9533 (+/- 0.09)\n",
      "F1-score: 0.9530 (+/- 0.09)\n"
     ]
    }
   ],
   "source": [
    "scores = cross_val_score(clf, X, y, cv=10)\n",
    "print('Accuracy: %0.4f (+/- %0.2f)' % (scores.mean(), scores.std() * 2))\n",
    "\n",
    "scores = cross_val_score(clf, X, y, cv=10, scoring='f1_macro')\n",
    "print('F1-score: %0.4f (+/- %0.2f)' % (scores.mean(), scores.std() * 2))"
   ]
  },
  {
   "cell_type": "code",
   "execution_count": 47,
   "metadata": {},
   "outputs": [
    {
     "data": {
      "text/plain": [
       "array([1.        , 0.93265993, 1.        , 0.93265993, 0.93265993,\n",
       "       0.86666667, 0.93265993, 0.93265993, 1.        , 1.        ])"
      ]
     },
     "execution_count": 47,
     "metadata": {},
     "output_type": "execute_result"
    }
   ],
   "source": [
    "scores"
   ]
  },
  {
   "cell_type": "markdown",
   "metadata": {},
   "source": [
    "### Tuning the hyper-parameters\n",
    "\n",
    "More options at [link](http://scikit-learn.org/stable/modules/grid_search.html#grid-search)"
   ]
  },
  {
   "cell_type": "code",
   "execution_count": 48,
   "metadata": {},
   "outputs": [],
   "source": [
    "from sklearn.model_selection import GridSearchCV\n",
    "from sklearn.model_selection import RandomizedSearchCV"
   ]
  },
  {
   "cell_type": "code",
   "execution_count": 49,
   "metadata": {},
   "outputs": [],
   "source": [
    "def report(results, n_top=3):\n",
    "    for i in range(1, n_top + 1):\n",
    "        candidates = np.flatnonzero(results['rank_test_score'] == i)\n",
    "        for candidate in candidates:\n",
    "            print(\"Model with rank: {0}\".format(i))\n",
    "            print(\"Mean validation score: {0:.3f} (std: {1:.3f})\".format(\n",
    "                  results['mean_test_score'][candidate],\n",
    "                  results['std_test_score'][candidate]))\n",
    "            print(\"Parameters: {0}\".format(results['params'][candidate]))\n",
    "            print(\"\")"
   ]
  },
  {
   "cell_type": "code",
   "execution_count": 50,
   "metadata": {},
   "outputs": [],
   "source": [
    "param_list = {'min_samples_split': [2, 5, 10, 20],\n",
    "              'min_samples_leaf': [1, 5, 10, 20],\n",
    "             }\n",
    "\n",
    "grid_search = GridSearchCV(clf, param_grid=param_list)\n",
    "grid_search.fit(X, y)\n",
    "clf = grid_search.best_estimator_"
   ]
  },
  {
   "cell_type": "code",
   "execution_count": 51,
   "metadata": {},
   "outputs": [
    {
     "name": "stdout",
     "output_type": "stream",
     "text": [
      "Model with rank: 1\n",
      "Mean validation score: 0.967 (std: 0.037)\n",
      "Parameters: {'min_samples_leaf': 1, 'min_samples_split': 2}\n",
      "\n",
      "Model with rank: 1\n",
      "Mean validation score: 0.967 (std: 0.021)\n",
      "Parameters: {'min_samples_leaf': 1, 'min_samples_split': 5}\n",
      "\n",
      "Model with rank: 1\n",
      "Mean validation score: 0.967 (std: 0.021)\n",
      "Parameters: {'min_samples_leaf': 1, 'min_samples_split': 10}\n",
      "\n",
      "Model with rank: 1\n",
      "Mean validation score: 0.967 (std: 0.021)\n",
      "Parameters: {'min_samples_leaf': 1, 'min_samples_split': 20}\n",
      "\n"
     ]
    }
   ],
   "source": [
    "report(grid_search.cv_results_, n_top=3)"
   ]
  },
  {
   "cell_type": "code",
   "execution_count": 37,
   "metadata": {},
   "outputs": [],
   "source": [
    "param_list = {'max_depth': [None] + list(np.arange(2, 20)),\n",
    "              'min_samples_split': [2, 5, 10, 20, 30, 50, 100],\n",
    "              'min_samples_leaf': [1, 5, 10, 20, 30, 50, 100],\n",
    "             }\n",
    "\n",
    "random_search = RandomizedSearchCV(clf, param_distributions=param_list, \n",
    "                                   n_iter=100)\n",
    "random_search.fit(X, y)\n",
    "clf = random_search.best_estimator_"
   ]
  },
  {
   "cell_type": "code",
   "execution_count": 38,
   "metadata": {},
   "outputs": [
    {
     "name": "stdout",
     "output_type": "stream",
     "text": [
      "Model with rank: 1\n",
      "Mean validation score: 0.967 (std: 0.021)\n",
      "Parameters: {'min_samples_split': 30, 'min_samples_leaf': 1, 'max_depth': 12}\n",
      "\n",
      "Model with rank: 1\n",
      "Mean validation score: 0.967 (std: 0.021)\n",
      "Parameters: {'min_samples_split': 5, 'min_samples_leaf': 1, 'max_depth': 13}\n",
      "\n",
      "Model with rank: 1\n",
      "Mean validation score: 0.967 (std: 0.021)\n",
      "Parameters: {'min_samples_split': 30, 'min_samples_leaf': 1, 'max_depth': 6}\n",
      "\n",
      "Model with rank: 1\n",
      "Mean validation score: 0.967 (std: 0.021)\n",
      "Parameters: {'min_samples_split': 10, 'min_samples_leaf': 1, 'max_depth': 14}\n",
      "\n",
      "Model with rank: 1\n",
      "Mean validation score: 0.967 (std: 0.021)\n",
      "Parameters: {'min_samples_split': 5, 'min_samples_leaf': 1, 'max_depth': 18}\n",
      "\n",
      "Model with rank: 1\n",
      "Mean validation score: 0.967 (std: 0.021)\n",
      "Parameters: {'min_samples_split': 20, 'min_samples_leaf': 1, 'max_depth': 13}\n",
      "\n",
      "Model with rank: 1\n",
      "Mean validation score: 0.967 (std: 0.021)\n",
      "Parameters: {'min_samples_split': 20, 'min_samples_leaf': 1, 'max_depth': 10}\n",
      "\n",
      "Model with rank: 1\n",
      "Mean validation score: 0.967 (std: 0.021)\n",
      "Parameters: {'min_samples_split': 20, 'min_samples_leaf': 1, 'max_depth': 14}\n",
      "\n",
      "Model with rank: 1\n",
      "Mean validation score: 0.967 (std: 0.021)\n",
      "Parameters: {'min_samples_split': 5, 'min_samples_leaf': 1, 'max_depth': 12}\n",
      "\n"
     ]
    }
   ],
   "source": [
    "report(random_search.cv_results_, n_top=3)"
   ]
  },
  {
   "cell_type": "code",
   "execution_count": null,
   "metadata": {},
   "outputs": [],
   "source": []
  },
  {
   "cell_type": "markdown",
   "metadata": {},
   "source": [
    "## Any other Sklearn classifier can be used in the same way"
   ]
  },
  {
   "cell_type": "markdown",
   "metadata": {},
   "source": [
    "Let see two examples: Random Forest and K-Nearest Neighbor"
   ]
  },
  {
   "cell_type": "markdown",
   "metadata": {},
   "source": [
    "# Random Forest\n",
    "\n",
    "Sklearn [link](http://scikit-learn.org/stable/modules/generated/sklearn.ensemble.RandomForestClassifier.html) for more details."
   ]
  },
  {
   "cell_type": "code",
   "execution_count": 38,
   "metadata": {},
   "outputs": [],
   "source": [
    "from sklearn.ensemble import RandomForestClassifier"
   ]
  },
  {
   "cell_type": "code",
   "execution_count": 43,
   "metadata": {},
   "outputs": [
    {
     "name": "stdout",
     "output_type": "stream",
     "text": [
      "Accuracy: 0.9600 (+/- 0.09)\n",
      "F1-score: 0.9597 (+/- 0.09)\n"
     ]
    }
   ],
   "source": [
    "clf = RandomForestClassifier(n_estimators=100, \n",
    "                             criterion='gini', \n",
    "                             max_depth=None, \n",
    "                             min_samples_split=2, \n",
    "                             min_samples_leaf=1, \n",
    "                             class_weight=None)\n",
    "\n",
    "scores = cross_val_score(clf, X, y, cv=10)\n",
    "print('Accuracy: %0.4f (+/- %0.2f)' % (scores.mean(), scores.std() * 2))\n",
    "\n",
    "scores = cross_val_score(clf, X, y, cv=10, scoring='f1_macro')\n",
    "print('F1-score: %0.4f (+/- %0.2f)' % (scores.mean(), scores.std() * 2))"
   ]
  },
  {
   "cell_type": "code",
   "execution_count": 44,
   "metadata": {},
   "outputs": [
    {
     "data": {
      "text/plain": [
       "RandomForestClassifier(bootstrap=True, class_weight=None, criterion='gini',\n",
       "            max_depth=None, max_features='auto', max_leaf_nodes=None,\n",
       "            min_impurity_decrease=0.0, min_impurity_split=None,\n",
       "            min_samples_leaf=1, min_samples_split=2,\n",
       "            min_weight_fraction_leaf=0.0, n_estimators=100, n_jobs=None,\n",
       "            oob_score=False, random_state=None, verbose=0,\n",
       "            warm_start=False)"
      ]
     },
     "execution_count": 44,
     "metadata": {},
     "output_type": "execute_result"
    }
   ],
   "source": [
    "clf.fit(X_train, y_train)"
   ]
  },
  {
   "cell_type": "code",
   "execution_count": 45,
   "metadata": {},
   "outputs": [
    {
     "data": {
      "text/plain": [
       "array(['Iris-setosa', 'Iris-versicolor', 'Iris-virginica',\n",
       "       'Iris-versicolor', 'Iris-virginica', 'Iris-setosa',\n",
       "       'Iris-versicolor', 'Iris-setosa', 'Iris-setosa', 'Iris-setosa',\n",
       "       'Iris-versicolor', 'Iris-versicolor', 'Iris-versicolor',\n",
       "       'Iris-setosa', 'Iris-versicolor', 'Iris-virginica',\n",
       "       'Iris-virginica', 'Iris-virginica', 'Iris-versicolor',\n",
       "       'Iris-versicolor', 'Iris-virginica', 'Iris-versicolor',\n",
       "       'Iris-versicolor', 'Iris-virginica', 'Iris-versicolor',\n",
       "       'Iris-setosa', 'Iris-versicolor', 'Iris-versicolor', 'Iris-setosa',\n",
       "       'Iris-virginica', 'Iris-virginica', 'Iris-virginica',\n",
       "       'Iris-versicolor', 'Iris-setosa', 'Iris-versicolor',\n",
       "       'Iris-virginica', 'Iris-setosa', 'Iris-setosa', 'Iris-setosa',\n",
       "       'Iris-versicolor', 'Iris-setosa', 'Iris-setosa', 'Iris-setosa',\n",
       "       'Iris-versicolor', 'Iris-virginica'], dtype=object)"
      ]
     },
     "execution_count": 45,
     "metadata": {},
     "output_type": "execute_result"
    }
   ],
   "source": [
    "clf.predict(X_test)"
   ]
  },
  {
   "cell_type": "markdown",
   "metadata": {},
   "source": [
    "# K-Nearest Neighbors\n",
    "\n",
    "Sklearn [link](http://scikit-learn.org/stable/modules/generated/sklearn.neighbors.KNeighborsClassifier.html) for more details."
   ]
  },
  {
   "cell_type": "code",
   "execution_count": 40,
   "metadata": {},
   "outputs": [],
   "source": [
    "from sklearn.neighbors import KNeighborsClassifier"
   ]
  },
  {
   "cell_type": "code",
   "execution_count": 41,
   "metadata": {},
   "outputs": [
    {
     "name": "stdout",
     "output_type": "stream",
     "text": [
      "Accuracy: 0.9667 (+/- 0.09)\n",
      "F1-score: 0.9659 (+/- 0.09)\n"
     ]
    }
   ],
   "source": [
    "clf = KNeighborsClassifier(n_neighbors=5)\n",
    "\n",
    "scores = cross_val_score(clf, X, y, cv=10)\n",
    "print('Accuracy: %0.4f (+/- %0.2f)' % (scores.mean(), scores.std() * 2))\n",
    "\n",
    "scores = cross_val_score(clf, X, y, cv=10, scoring='f1_macro')\n",
    "print('F1-score: %0.4f (+/- %0.2f)' % (scores.mean(), scores.std() * 2))"
   ]
  },
  {
   "cell_type": "code",
   "execution_count": null,
   "metadata": {},
   "outputs": [],
   "source": []
  }
 ],
 "metadata": {
  "kernelspec": {
   "display_name": "Python 3",
   "language": "python",
   "name": "python3"
  },
  "language_info": {
   "codemirror_mode": {
    "name": "ipython",
    "version": 3
   },
   "file_extension": ".py",
   "mimetype": "text/x-python",
   "name": "python",
   "nbconvert_exporter": "python",
   "pygments_lexer": "ipython3",
   "version": "3.8.0"
  }
 },
 "nbformat": 4,
 "nbformat_minor": 2
}
